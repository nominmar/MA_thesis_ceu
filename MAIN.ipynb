{
 "cells": [
  {
   "cell_type": "code",
   "execution_count": 3,
   "metadata": {},
   "outputs": [],
   "source": [
    "import pandas as pd\n",
    "import numpy as np\n",
    "from random import random\n",
    "from CTL2.causal_tree_learn import CausalTree\n",
    "from DGP.DGP import dgp2\n",
    "from DGP.DGP import dgp4\n",
    "from DGP.DGP import dgp8\n",
    "from MC.mc import mc_ate2\n",
    "from MC.mc import mc_ate4\n",
    "from MC.mc import mc_ate8\n",
    "from sklearn.model_selection import train_test_split\n",
    "from sklearn.metrics import mean_squared_error as mse\n",
    "import matplotlib.pyplot as plt\n",
    "import pickle as pkl\n",
    "import datetime\n",
    "from utility.utility import transposer as tp\n",
    "from utility.utility import writer\n",
    "from utility.utility import reader"
   ]
  },
  {
   "cell_type": "markdown",
   "metadata": {},
   "source": [
    "## Main Notebook: see sections below to run simulations for 3 Data Generation Processes:"
   ]
  },
  {
   "cell_type": "markdown",
   "metadata": {},
   "source": [
    "#### Parameters:"
   ]
  },
  {
   "cell_type": "code",
   "execution_count": 14,
   "metadata": {},
   "outputs": [],
   "source": [
    "n = 500 #n_tr + n_est size\n",
    "n_test = 1000 #n_test\n",
    "reps = 2 \n",
    "test_sizes = [0.2, 0.3, 0.4, 0.5, 0.6, 0.7, 0.8]\n",
    "var_e = 0.01"
   ]
  },
  {
   "cell_type": "markdown",
   "metadata": {},
   "source": [
    "<h2><center>Data Generation Process 1: </center></h2>\n",
    "$$\n",
    "Y_i = -1.5D +  3D \\cdot \\mathcal{I}_{\\{x_1 \\geq 0\\}} + \\sum_{k=2}^5 x_k + e_i\n",
    "$$\n",
    "\n",
    "<h2><center>Treatment effect: </center></h2>\n",
    "$$\\gamma(x) = -1.5 + 3 \\cdot \\mathcal{I}_{\\{x_1 \\geq 0\\}}\n",
    "$$\n",
    "\n",
    "<h2><center> Mean effect: </center></h2>\n",
    "$$ \n",
    "\\eta(x) = \\sum_{k=2}^5 x_k$\n",
    "$$\n",
    "<h2><center><img src=\"other/t1.png\"></center></h2>"
   ]
  },
  {
   "cell_type": "code",
   "execution_count": 17,
   "metadata": {},
   "outputs": [
    {
     "name": "stdout",
     "output_type": "stream",
     "text": [
      "start time:  12:13\n",
      "end time:  12:13\n"
     ]
    },
    {
     "data": {
      "text/html": [
       "<div>\n",
       "<style scoped>\n",
       "    .dataframe tbody tr th:only-of-type {\n",
       "        vertical-align: middle;\n",
       "    }\n",
       "\n",
       "    .dataframe tbody tr th {\n",
       "        vertical-align: top;\n",
       "    }\n",
       "\n",
       "    .dataframe thead th {\n",
       "        text-align: right;\n",
       "    }\n",
       "</style>\n",
       "<table border=\"1\" class=\"dataframe\">\n",
       "  <thead>\n",
       "    <tr style=\"text-align: right;\">\n",
       "      <th></th>\n",
       "      <th>test_sizes</th>\n",
       "      <th>Mean1</th>\n",
       "      <th>Mean2</th>\n",
       "      <th>MSE1</th>\n",
       "      <th>MSE2</th>\n",
       "      <th>BIAS1</th>\n",
       "      <th>BIAS2</th>\n",
       "      <th>VAR1</th>\n",
       "      <th>VAR2</th>\n",
       "      <th>MSE_T_BIAS</th>\n",
       "      <th>MSE_T_VAR</th>\n",
       "      <th>MSE_TOTAL</th>\n",
       "    </tr>\n",
       "  </thead>\n",
       "  <tbody>\n",
       "    <tr>\n",
       "      <th>0</th>\n",
       "      <td>0.2</td>\n",
       "      <td>0.903453</td>\n",
       "      <td>-1.001994</td>\n",
       "      <td>0.596547</td>\n",
       "      <td>-0.498006</td>\n",
       "      <td>0.004108</td>\n",
       "      <td>0.310658</td>\n",
       "      <td>0.359976</td>\n",
       "      <td>0.558668</td>\n",
       "      <td>0.758821</td>\n",
       "      <td>0.193995</td>\n",
       "      <td>0.952816</td>\n",
       "    </tr>\n",
       "    <tr>\n",
       "      <th>0</th>\n",
       "      <td>0.3</td>\n",
       "      <td>1.535075</td>\n",
       "      <td>-1.460184</td>\n",
       "      <td>-0.035075</td>\n",
       "      <td>-0.039816</td>\n",
       "      <td>0.019345</td>\n",
       "      <td>0.006176</td>\n",
       "      <td>0.020575</td>\n",
       "      <td>0.007762</td>\n",
       "      <td>0.325549</td>\n",
       "      <td>0.124793</td>\n",
       "      <td>0.450342</td>\n",
       "    </tr>\n",
       "    <tr>\n",
       "      <th>0</th>\n",
       "      <td>0.4</td>\n",
       "      <td>1.304105</td>\n",
       "      <td>-1.409300</td>\n",
       "      <td>0.195895</td>\n",
       "      <td>-0.090700</td>\n",
       "      <td>0.000281</td>\n",
       "      <td>0.004684</td>\n",
       "      <td>0.038656</td>\n",
       "      <td>0.012911</td>\n",
       "      <td>0.401717</td>\n",
       "      <td>0.095579</td>\n",
       "      <td>0.497296</td>\n",
       "    </tr>\n",
       "    <tr>\n",
       "      <th>0</th>\n",
       "      <td>0.5</td>\n",
       "      <td>1.693096</td>\n",
       "      <td>-1.311728</td>\n",
       "      <td>-0.193096</td>\n",
       "      <td>-0.188272</td>\n",
       "      <td>0.079575</td>\n",
       "      <td>0.054006</td>\n",
       "      <td>0.116861</td>\n",
       "      <td>0.089452</td>\n",
       "      <td>0.283518</td>\n",
       "      <td>0.090859</td>\n",
       "      <td>0.374376</td>\n",
       "    </tr>\n",
       "    <tr>\n",
       "      <th>0</th>\n",
       "      <td>0.6</td>\n",
       "      <td>1.221227</td>\n",
       "      <td>-1.437273</td>\n",
       "      <td>0.278773</td>\n",
       "      <td>-0.062727</td>\n",
       "      <td>0.066196</td>\n",
       "      <td>0.007147</td>\n",
       "      <td>0.143911</td>\n",
       "      <td>0.011082</td>\n",
       "      <td>0.437895</td>\n",
       "      <td>0.166850</td>\n",
       "      <td>0.604745</td>\n",
       "    </tr>\n",
       "    <tr>\n",
       "      <th>0</th>\n",
       "      <td>0.7</td>\n",
       "      <td>1.502629</td>\n",
       "      <td>-1.500497</td>\n",
       "      <td>-0.002629</td>\n",
       "      <td>0.000497</td>\n",
       "      <td>0.011155</td>\n",
       "      <td>0.001986</td>\n",
       "      <td>0.011162</td>\n",
       "      <td>0.001986</td>\n",
       "      <td>0.269181</td>\n",
       "      <td>0.050085</td>\n",
       "      <td>0.319266</td>\n",
       "    </tr>\n",
       "    <tr>\n",
       "      <th>0</th>\n",
       "      <td>0.8</td>\n",
       "      <td>1.359099</td>\n",
       "      <td>-1.257747</td>\n",
       "      <td>0.140901</td>\n",
       "      <td>-0.242253</td>\n",
       "      <td>0.003770</td>\n",
       "      <td>0.002097</td>\n",
       "      <td>0.023623</td>\n",
       "      <td>0.060783</td>\n",
       "      <td>0.425508</td>\n",
       "      <td>0.084936</td>\n",
       "      <td>0.510445</td>\n",
       "    </tr>\n",
       "  </tbody>\n",
       "</table>\n",
       "</div>"
      ],
      "text/plain": [
       "   test_sizes     Mean1     Mean2      MSE1      MSE2     BIAS1     BIAS2  \\\n",
       "0         0.2  0.903453 -1.001994  0.596547 -0.498006  0.004108  0.310658   \n",
       "0         0.3  1.535075 -1.460184 -0.035075 -0.039816  0.019345  0.006176   \n",
       "0         0.4  1.304105 -1.409300  0.195895 -0.090700  0.000281  0.004684   \n",
       "0         0.5  1.693096 -1.311728 -0.193096 -0.188272  0.079575  0.054006   \n",
       "0         0.6  1.221227 -1.437273  0.278773 -0.062727  0.066196  0.007147   \n",
       "0         0.7  1.502629 -1.500497 -0.002629  0.000497  0.011155  0.001986   \n",
       "0         0.8  1.359099 -1.257747  0.140901 -0.242253  0.003770  0.002097   \n",
       "\n",
       "       VAR1      VAR2  MSE_T_BIAS  MSE_T_VAR  MSE_TOTAL  \n",
       "0  0.359976  0.558668    0.758821   0.193995   0.952816  \n",
       "0  0.020575  0.007762    0.325549   0.124793   0.450342  \n",
       "0  0.038656  0.012911    0.401717   0.095579   0.497296  \n",
       "0  0.116861  0.089452    0.283518   0.090859   0.374376  \n",
       "0  0.143911  0.011082    0.437895   0.166850   0.604745  \n",
       "0  0.011162  0.001986    0.269181   0.050085   0.319266  \n",
       "0  0.023623  0.060783    0.425508   0.084936   0.510445  "
      ]
     },
     "execution_count": 17,
     "metadata": {},
     "output_type": "execute_result"
    }
   ],
   "source": [
    "print(\"start time: \", str(datetime.datetime.now())[11:16])\n",
    "df = pd.DataFrame()\n",
    "k = 1\n",
    "for size in test_sizes:\n",
    "    results = mc_ate2(n, n_test, var_e, reps, size)\n",
    "    df = pd.concat([df, pd.DataFrame(results).transpose()])\n",
    "    print('iter' + str(k) + \" end time: \", str(datetime.datetime.now())[11:16])\n",
    "    k = k + 1\n",
    "df.columns=['test_sizes', 'Mean1', 'Mean2', 'MSE1', 'MSE2', 'BIAS1', 'BIAS2', 'VAR1', 'VAR2', 'MSE_T_BIAS', 'MSE_T_VAR', 'MSE_TOTAL']\n",
    "print(\"end time: \", str(datetime.datetime.now())[11:16])\n",
    "df"
   ]
  },
  {
   "cell_type": "markdown",
   "metadata": {},
   "source": [
    "<h2><center>Data Generation Process 2: </center></h2>\n",
    "$$\n",
    "Y_i = -2D + 3D \\cdot \\mathcal{I}_{\\{x_1 \\geq 0\\}} + D \\cdot \\mathcal{I}_{\\{x_2 \\geq 0\\}} + D \\cdot \\mathcal{I}_{\\{x_1 \\geq 0\\ \\&\\;x_2 \\geq 0\\}} + \\sum_{k=3}^5 x_k + e_i\n",
    "$$\n",
    "<h2><center>Treatment effect: </center></h2>\n",
    "$$\n",
    "\\gamma(x) = -2 + 3 \\cdot \\mathcal{I}_{\\{x_1 \\geq 0\\}} + \\mathcal{I}_{\\{x_2 \\geq 0\\}} + \\mathcal{I}_{\\{x_1 \\geq 0\\ \\&\\;x_2 \\geq 0\\}}\n",
    "$$\n",
    "<h2><center> Mean effect: </center></h2>\n",
    "$$\n",
    "\\eta(x) = \\sum_{k=3}^5 x_k\n",
    "$$\n",
    "<h2><center><img src=\"other/t2.png\"></center></h2>"
   ]
  },
  {
   "cell_type": "code",
   "execution_count": 12,
   "metadata": {},
   "outputs": [
    {
     "name": "stdout",
     "output_type": "stream",
     "text": [
      "start time:  11:48\n",
      "iter1 end time:  11:48\n",
      "iter2 end time:  11:48\n",
      "iter3 end time:  11:48\n",
      "iter4 end time:  11:48\n",
      "iter5 end time:  11:48\n",
      "iter6 end time:  11:48\n",
      "iter7 end time:  11:48\n",
      "end time:  11:48\n"
     ]
    }
   ],
   "source": [
    "print(\"start time: \", str(datetime.datetime.now())[11:16])\n",
    "df = pd.DataFrame()\n",
    "k = 1\n",
    "for size in test_sizes:\n",
    "    results = mc_ate4(n, n_test, var_e, reps, size)\n",
    "    df = pd.concat([df, pd.DataFrame(results).transpose()])\n",
    "    print('iter' + str(k) + \" end time: \", str(datetime.datetime.now())[11:16])\n",
    "    k = k + 1\n",
    "df.columns=['test_sizes', 'Mean1', 'Mean2', 'Mean3', 'Mean4', 'MSE1', 'MSE2','MSE3', 'MSE4', 'BIAS1', 'BIAS2','BIAS3', 'BIAS4', 'VAR1', 'VAR2','VAR3', 'VAR4',  'MSE_T_BIAS', 'MSE_T_VAR', 'MSE_TOTAL']    \n",
    "print(\"end time: \", str(datetime.datetime.now())[11:16])"
   ]
  },
  {
   "cell_type": "markdown",
   "metadata": {},
   "source": [
    "<h2><center>Data Generation Process 3: </center></h2>\n",
    "$$\n",
    "Y_i = -5D + 6D \\cdot \\mathcal{I}_{\\{x_1 \\geq 0\\}} + 2.5D \\cdot \\mathcal{I}_{\\{x_2 \\geq 0\\}} + 1.5D \\cdot \\mathcal{I}_{\\{x_3 \\geq 0\\}} + \\sum_{k=4}^5 x_k + e_i\n",
    "$$\n",
    "<h2><center>Treatment effect: </center></h2>\n",
    "$$\n",
    "\\gamma(x) = -5 + 6 \\cdot \\mathcal{I}_{\\{x_1 \\geq 0\\}} + 2.5 \\cdot \\mathcal{I}_{\\{x_2 \\geq 0\\}} + 1.5 \\cdot \\mathcal{I}_{\\{x_3 \\geq 0\\}}\n",
    "$$\n",
    "<h2><center>Mean effect: </center></h2>\n",
    "$$\n",
    "\\eta(x) = \\sum_{k=4}^5 x_k\n",
    "$$\n",
    "<h2><center><img src=\"other/t3.png\"></center></h2>"
   ]
  },
  {
   "cell_type": "code",
   "execution_count": 3,
   "metadata": {},
   "outputs": [
    {
     "data": {
      "text/plain": [
       "array([ 0.5       , -0.33112802, -0.33112802,  1.83112802, -1.16887198,\n",
       "        0.45701865,  0.45701865,  3.81004848,  1.82328035,  2.30138048,\n",
       "        0.45701865,  2.75839912])"
      ]
     },
     "execution_count": 3,
     "metadata": {},
     "output_type": "execute_result"
    }
   ],
   "source": [
    "print(\"start time: \", str(datetime.datetime.now())[11:16])\n",
    "df = pd.DataFrame()\n",
    "k = 1\n",
    "for size in test_sizes:\n",
    "    results = mc_ate4(n, n_test, var_e, reps, size)\n",
    "    df = pd.concat([df, pd.DataFrame(results).transpose()])\n",
    "    #rint('iter' + str(k) + \" end time: \", str(datetime.datetime.now())[11:16])\n",
    "    k = k + 1\n",
    "df.columns=['test_sizes', 'Mean1', 'Mean2', 'Mean3', 'Mean4','Mean5', 'Mean6', 'Mean7', 'Mean8', \n",
    "            'MSE1', 'MSE2','MSE3', 'MSE4','MSE5', 'MSE6','MSE7', 'MSE8',\n",
    "            'BIAS1', 'BIAS2','BIAS3', 'BIAS4', 'BIAS5', 'BIAS6','BIAS7', 'BIAS8',\n",
    "            'VAR1', 'VAR2','VAR3', 'VAR4',  'VAR5', 'VAR6','VAR7', 'VAR8', \n",
    "            'MSE_T_BIAS', 'MSE_T_VAR', 'MSE_TOTAL']   \n",
    "print(\"end time: \", str(datetime.datetime.now())[11:16])"
   ]
  }
 ],
 "metadata": {
  "kernelspec": {
   "display_name": "Python 3",
   "language": "python",
   "name": "python3"
  },
  "language_info": {
   "codemirror_mode": {
    "name": "ipython",
    "version": 3
   },
   "file_extension": ".py",
   "mimetype": "text/x-python",
   "name": "python",
   "nbconvert_exporter": "python",
   "pygments_lexer": "ipython3",
   "version": "3.8.3"
  }
 },
 "nbformat": 4,
 "nbformat_minor": 4
}
